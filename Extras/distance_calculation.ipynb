{
 "cells": [
  {
   "cell_type": "code",
   "execution_count": 1,
   "metadata": {},
   "outputs": [],
   "source": [
    "import cv2\n",
    "\n",
    "from ultralytics import YOLO, solutions"
   ]
  },
  {
   "cell_type": "code",
   "execution_count": 2,
   "metadata": {},
   "outputs": [],
   "source": [
    "import ultralytics.utils as utils"
   ]
  },
  {
   "cell_type": "code",
   "execution_count": 17,
   "metadata": {},
   "outputs": [
    {
     "data": {
      "text/plain": [
       "PosixPath('/root/.config/Ultralytics/settings.yaml')"
      ]
     },
     "execution_count": 17,
     "metadata": {},
     "output_type": "execute_result"
    }
   ],
   "source": []
  },
  {
   "cell_type": "code",
   "execution_count": 3,
   "metadata": {},
   "outputs": [],
   "source": [
    "model_path='crosswalk_weigths/best.pt'\n",
    "video_path='/home/machineLearning/video.mp4'"
   ]
  },
  {
   "cell_type": "code",
   "execution_count": 4,
   "metadata": {},
   "outputs": [],
   "source": [
    "model = YOLO(model_path)\n",
    "names = model.model.names\n"
   ]
  },
  {
   "cell_type": "code",
   "execution_count": 5,
   "metadata": {},
   "outputs": [],
   "source": [
    "model.metrics"
   ]
  },
  {
   "cell_type": "code",
   "execution_count": 6,
   "metadata": {},
   "outputs": [
    {
     "data": {
      "text/plain": [
       "{0: 'crosswalk'}"
      ]
     },
     "execution_count": 6,
     "metadata": {},
     "output_type": "execute_result"
    }
   ],
   "source": [
    "names"
   ]
  },
  {
   "cell_type": "code",
   "execution_count": 7,
   "metadata": {},
   "outputs": [
    {
     "name": "stdout",
     "output_type": "stream",
     "text": [
      "\n",
      "0: 512x288 3 crosswalks, 156.3ms\n",
      "Speed: 13.2ms preprocess, 156.3ms inference, 1144.4ms postprocess per image at shape (1, 3, 512, 288)\n",
      "Results saved to \u001b[1mruns/detect/predict2\u001b[0m\n",
      "1 label saved to runs/detect/predict2/labels\n",
      "<class 'list'>\n",
      "1\n"
     ]
    }
   ],
   "source": [
    "\n",
    "\n",
    "# Carga el modelo YOLO\n",
    "model = YOLO(model_path,task='detect')\n",
    "names = model.model.names\n",
    "\n",
    "# Lee la imagen\n",
    "image_path = \"006637.jpg\"  # Cambia esto por la ruta de tu imagen\n",
    "img = cv2.imread(image_path)\n",
    "\n",
    "if img is None:\n",
    "    print(f\"No se pudo cargar la imagen desde {image_path}\")\n",
    "else:\n",
    "    # Procesa la imagen con el modelo YOLO\n",
    "    tracks = model.predict(img, show=True,save_txt=True)\n",
    "    print(type(tracks))\n",
    "    print(len(tracks))\n",
    "    \n",
    "    \n",
    "    \n",
    "    # Aplica el procesamiento adicional\n",
    "    #processed_img = dist_obj.start_process(img, tracks)\n",
    "    \n",
    "    \n",
    "   \n",
    "    \n",
    "    ## Muestra la imagen procesada\n",
    "    #cv2.imshow('Processed Image', processed_img)\n",
    "    #cv2.waitKey(0)\n",
    "    #cv2.destroyAllWindows()\n"
   ]
  },
  {
   "cell_type": "code",
   "execution_count": 8,
   "metadata": {},
   "outputs": [],
   "source": [
    "# Inicializa el objeto para cálculo de distancia\n",
    "dist_obj = solutions.DistanceCalculation(names=names, view_img=True)"
   ]
  },
  {
   "cell_type": "code",
   "execution_count": 9,
   "metadata": {},
   "outputs": [
    {
     "data": {
      "text/plain": [
       "ultralytics.engine.results.Boxes object with attributes:\n",
       "\n",
       "cls: tensor([0., 0., 0.], device='cuda:0')\n",
       "conf: tensor([0.9433, 0.9098, 0.4545], device='cuda:0')\n",
       "data: tensor([[2.2476e-01, 9.0774e+02, 1.0800e+03, 1.1268e+03, 9.4326e-01, 0.0000e+00],\n",
       "        [3.3760e-01, 1.3710e+03, 1.0798e+03, 1.9200e+03, 9.0983e-01, 0.0000e+00],\n",
       "        [3.8355e-01, 7.2990e+02, 8.0783e+02, 8.0480e+02, 4.5449e-01, 0.0000e+00]], device='cuda:0')\n",
       "id: None\n",
       "is_track: False\n",
       "orig_shape: (1920, 1080)\n",
       "shape: torch.Size([3, 6])\n",
       "xywh: tensor([[ 540.1124, 1017.2566, 1079.7753,  219.0381],\n",
       "        [ 540.0777, 1645.4790, 1079.4801,  549.0419],\n",
       "        [ 404.1077,  767.3483,  807.4484,   74.9004]], device='cuda:0')\n",
       "xywhn: tensor([[0.5001, 0.5298, 0.9998, 0.1141],\n",
       "        [0.5001, 0.8570, 0.9995, 0.2860],\n",
       "        [0.3742, 0.3997, 0.7476, 0.0390]], device='cuda:0')\n",
       "xyxy: tensor([[2.2476e-01, 9.0774e+02, 1.0800e+03, 1.1268e+03],\n",
       "        [3.3760e-01, 1.3710e+03, 1.0798e+03, 1.9200e+03],\n",
       "        [3.8355e-01, 7.2990e+02, 8.0783e+02, 8.0480e+02]], device='cuda:0')\n",
       "xyxyn: tensor([[2.0811e-04, 4.7278e-01, 1.0000e+00, 5.8686e-01],\n",
       "        [3.1259e-04, 7.1404e-01, 9.9983e-01, 1.0000e+00],\n",
       "        [3.5514e-04, 3.8016e-01, 7.4799e-01, 4.1917e-01]], device='cuda:0')"
      ]
     },
     "execution_count": 9,
     "metadata": {},
     "output_type": "execute_result"
    }
   ],
   "source": [
    "len(tracks)\n",
    "tracks[0].boxes"
   ]
  },
  {
   "cell_type": "code",
   "execution_count": 10,
   "metadata": {},
   "outputs": [
    {
     "data": {
      "text/plain": [
       "tensor([[2.2476e-01, 9.0774e+02, 1.0800e+03, 1.1268e+03],\n",
       "        [3.3760e-01, 1.3710e+03, 1.0798e+03, 1.9200e+03],\n",
       "        [3.8355e-01, 7.2990e+02, 8.0783e+02, 8.0480e+02]], device='cuda:0')"
      ]
     },
     "execution_count": 10,
     "metadata": {},
     "output_type": "execute_result"
    }
   ],
   "source": [
    "boxes=tracks[0].boxes.xyxy\n",
    "boxes"
   ]
  },
  {
   "cell_type": "code",
   "execution_count": 11,
   "metadata": {},
   "outputs": [],
   "source": [
    "box1=boxes[0]\n",
    "box2=boxes[1]"
   ]
  },
  {
   "cell_type": "code",
   "execution_count": 12,
   "metadata": {},
   "outputs": [],
   "source": [
    "\n",
    "    \n",
    "centro1=dist_obj.calculate_centroid(box1)\n",
    "\n",
    "centro2=dist_obj.calculate_centroid(box2)"
   ]
  },
  {
   "cell_type": "code",
   "execution_count": 13,
   "metadata": {},
   "outputs": [
    {
     "data": {
      "text/plain": [
       "(46.322060416717214, 46322.06041671721)"
      ]
     },
     "execution_count": 13,
     "metadata": {},
     "output_type": "execute_result"
    }
   ],
   "source": [
    "calculate=dist_obj.calculate_distance(box1,box2)\n",
    "calculate"
   ]
  },
  {
   "cell_type": "code",
   "execution_count": 14,
   "metadata": {},
   "outputs": [
    {
     "ename": "AttributeError",
     "evalue": "'NoneType' object has no attribute 'int'",
     "output_type": "error",
     "traceback": [
      "\u001b[0;31m---------------------------------------------------------------------------\u001b[0m",
      "\u001b[0;31mAttributeError\u001b[0m                            Traceback (most recent call last)",
      "Cell \u001b[0;32mIn[14], line 1\u001b[0m\n\u001b[0;32m----> 1\u001b[0m \u001b[43mdist_obj\u001b[49m\u001b[38;5;241;43m.\u001b[39;49m\u001b[43mextract_tracks\u001b[49m\u001b[43m(\u001b[49m\u001b[43mtracks\u001b[49m\u001b[43m)\u001b[49m\n",
      "File \u001b[0;32m/usr/local/lib/python3.10/dist-packages/ultralytics/solutions/distance_calculation.py:90\u001b[0m, in \u001b[0;36mDistanceCalculation.extract_tracks\u001b[0;34m(self, tracks)\u001b[0m\n\u001b[1;32m     88\u001b[0m \u001b[38;5;28mself\u001b[39m\u001b[38;5;241m.\u001b[39mboxes \u001b[38;5;241m=\u001b[39m tracks[\u001b[38;5;241m0\u001b[39m]\u001b[38;5;241m.\u001b[39mboxes\u001b[38;5;241m.\u001b[39mxyxy\u001b[38;5;241m.\u001b[39mcpu()\n\u001b[1;32m     89\u001b[0m \u001b[38;5;28mself\u001b[39m\u001b[38;5;241m.\u001b[39mclss \u001b[38;5;241m=\u001b[39m tracks[\u001b[38;5;241m0\u001b[39m]\u001b[38;5;241m.\u001b[39mboxes\u001b[38;5;241m.\u001b[39mcls\u001b[38;5;241m.\u001b[39mcpu()\u001b[38;5;241m.\u001b[39mtolist()\n\u001b[0;32m---> 90\u001b[0m \u001b[38;5;28mself\u001b[39m\u001b[38;5;241m.\u001b[39mtrk_ids \u001b[38;5;241m=\u001b[39m \u001b[43mtracks\u001b[49m\u001b[43m[\u001b[49m\u001b[38;5;241;43m0\u001b[39;49m\u001b[43m]\u001b[49m\u001b[38;5;241;43m.\u001b[39;49m\u001b[43mboxes\u001b[49m\u001b[38;5;241;43m.\u001b[39;49m\u001b[43mid\u001b[49m\u001b[38;5;241;43m.\u001b[39;49m\u001b[43mint\u001b[49m()\u001b[38;5;241m.\u001b[39mcpu()\u001b[38;5;241m.\u001b[39mtolist()\n",
      "\u001b[0;31mAttributeError\u001b[0m: 'NoneType' object has no attribute 'int'"
     ]
    }
   ],
   "source": [
    "from ultralytics.utils.plotting import Annotator, colors\n",
    "\n"
   ]
  },
  {
   "cell_type": "code",
   "execution_count": null,
   "metadata": {},
   "outputs": [],
   "source": [
    "dist_obj"
   ]
  },
  {
   "cell_type": "code",
   "execution_count": null,
   "metadata": {},
   "outputs": [],
   "source": [
    "for result in tracks:\n",
    "    boxes = result.boxes  # Boxes object for bounding box outputs\n",
    "    masks = result.masks  # Masks object for segmentation masks outputs\n",
    "    keypoints = result.keypoints  # Keypoints object for pose outputs\n",
    "    probs = result.probs  # Probs object for classification outputs\n",
    "    obb = result.obb  # Oriented boxes object for OBB outputs\n",
    "    result.show()  # display to screen\n",
    "    result.save(filename=\"result.jpg\")  # save to disk"
   ]
  },
  {
   "cell_type": "code",
   "execution_count": null,
   "metadata": {},
   "outputs": [],
   "source": []
  },
  {
   "cell_type": "code",
   "execution_count": null,
   "metadata": {},
   "outputs": [],
   "source": [
    "predicit=model.predict(img)"
   ]
  },
  {
   "cell_type": "code",
   "execution_count": null,
   "metadata": {},
   "outputs": [],
   "source": [
    "predicit"
   ]
  },
  {
   "cell_type": "code",
   "execution_count": null,
   "metadata": {},
   "outputs": [],
   "source": [
    "print(tracks[0])"
   ]
  },
  {
   "cell_type": "code",
   "execution_count": null,
   "metadata": {},
   "outputs": [],
   "source": [
    "import cv2\n",
    "\n",
    "from ultralytics import YOLO, solutions\n",
    "\n",
    "model = YOLO(\"yolov8n.pt\")\n",
    "names = model.model.names\n",
    "\n",
    "cap = cv2.VideoCapture(\"path/to/video/file.mp4\")\n",
    "assert cap.isOpened(), \"Error reading video file\"\n",
    "w, h, fps = (int(cap.get(x)) for x in (cv2.CAP_PROP_FRAME_WIDTH, cv2.CAP_PROP_FRAME_HEIGHT, cv2.CAP_PROP_FPS))\n",
    "\n",
    "# Video writer\n",
    "video_writer = cv2.VideoWriter(\"distance_calculation.avi\", cv2.VideoWriter_fourcc(*\"mp4v\"), fps, (w, h))\n",
    "\n",
    "# Init distance-calculation obj\n",
    "dist_obj = solutions.DistanceCalculation(names=names, view_img=True)\n",
    "\n",
    "while cap.isOpened():\n",
    "    success, im0 = cap.read()\n",
    "    if not success:\n",
    "        print(\"Video frame is empty or video processing has been successfully completed.\")\n",
    "        break\n",
    "\n",
    "    tracks = model.track(im0, persist=True, show=False)\n",
    "    im0 = dist_obj.start_process(im0, tracks)\n",
    "    video_writer.write(im0)\n",
    "   \n",
    "cap.release()\n",
    "video_writer.release()\n",
    "cv2.destroyAllWindows()"
   ]
  },
  {
   "cell_type": "code",
   "execution_count": null,
   "metadata": {},
   "outputs": [],
   "source": [
    "\n",
    "\n",
    "model = YOLO(model_path)\n",
    "names = model.model.names\n",
    "\n",
    "cap = cv2.VideoCapture(video_path)\n",
    "assert cap.isOpened(), \"Error reading video file\"\n",
    "w, h, fps = (int(cap.get(x)) for x in (cv2.CAP_PROP_FRAME_WIDTH, cv2.CAP_PROP_FRAME_HEIGHT, cv2.CAP_PROP_FPS))\n",
    "\n",
    "# Video writer\n",
    "video_writer = cv2.VideoWriter(\"distance_calculation.avi\", cv2.VideoWriter_fourcc(*\"mp4v\"), fps, (w, h))\n",
    "\n",
    "# Init distance-calculation obj\n",
    "dist_obj = solutions.DistanceCalculation(names=names, view_img=True)\n",
    "\n",
    "while cap.isOpened():\n",
    "    success, im0 = cap.read()\n",
    "    if not success:\n",
    "        print(\"Video frame is empty or video processing has been successfully completed.\")\n",
    "        break\n",
    "\n",
    "    tracks = model.track(im0, persist=True, show=False,verbose=True)\n",
    "    im0 = dist_obj.start_process(im0, tracks)\n",
    "    print('Tracks ids')\n",
    "    print(dist_obj.calculate_distance())\n",
    "    #print(im0)\n",
    "    video_writer.write(im0)\n",
    "\n",
    "cap.release()\n",
    "video_writer.release()\n",
    "cv2.destroyAllWindows()"
   ]
  },
  {
   "cell_type": "code",
   "execution_count": null,
   "metadata": {},
   "outputs": [],
   "source": []
  }
 ],
 "metadata": {
  "kernelspec": {
   "display_name": "Python 3",
   "language": "python",
   "name": "python3"
  },
  "language_info": {
   "codemirror_mode": {
    "name": "ipython",
    "version": 3
   },
   "file_extension": ".py",
   "mimetype": "text/x-python",
   "name": "python",
   "nbconvert_exporter": "python",
   "pygments_lexer": "ipython3",
   "version": "3.10.12"
  }
 },
 "nbformat": 4,
 "nbformat_minor": 2
}
